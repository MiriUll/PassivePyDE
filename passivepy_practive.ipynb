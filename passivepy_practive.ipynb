{
 "cells": [
  {
   "cell_type": "code",
   "execution_count": 2,
   "metadata": {},
   "outputs": [],
   "source": [
    "import pandas as pd\n",
    "import numpy as np"
   ]
  },
  {
   "cell_type": "code",
   "execution_count": 4,
   "metadata": {},
   "outputs": [
    {
     "name": "stdout",
     "output_type": "stream",
     "text": [
      "Collecting en_core_web_lg\n",
      "  Using cached en_core_web_lg-3.0.0-py3-none-any.whl\n",
      "Requirement already satisfied: spacy==3.0.6 in c:\\users\\mitra\\anaconda3\\lib\\site-packages (from -r https://raw.githubusercontent.com/mitramir55/PassivePy/main/PassivePyCode/PassivePySrc/requirements_lg.txt (line 1)) (3.0.6)\n",
      "Requirement already satisfied: spacy-legacy==3.0.6 in c:\\users\\mitra\\anaconda3\\lib\\site-packages (from -r https://raw.githubusercontent.com/mitramir55/PassivePy/main/PassivePyCode/PassivePySrc/requirements_lg.txt (line 2)) (3.0.6)\n",
      "Requirement already satisfied: termcolor==1.1.0 in c:\\users\\mitra\\anaconda3\\lib\\site-packages (from -r https://raw.githubusercontent.com/mitramir55/PassivePy/main/PassivePyCode/PassivePySrc/requirements_lg.txt (line 3)) (1.1.0)\n",
      "Requirement already satisfied: preshed<3.1.0,>=3.0.2 in c:\\users\\mitra\\anaconda3\\lib\\site-packages (from spacy==3.0.6->-r https://raw.githubusercontent.com/mitramir55/PassivePy/main/PassivePyCode/PassivePySrc/requirements_lg.txt (line 1)) (3.0.7)\n",
      "Requirement already satisfied: setuptools in c:\\users\\mitra\\anaconda3\\lib\\site-packages (from spacy==3.0.6->-r https://raw.githubusercontent.com/mitramir55/PassivePy/main/PassivePyCode/PassivePySrc/requirements_lg.txt (line 1)) (61.2.0)\n",
      "Requirement already satisfied: packaging>=20.0 in c:\\users\\mitra\\anaconda3\\lib\\site-packages (from spacy==3.0.6->-r https://raw.githubusercontent.com/mitramir55/PassivePy/main/PassivePyCode/PassivePySrc/requirements_lg.txt (line 1)) (21.3)\n",
      "Requirement already satisfied: catalogue<2.1.0,>=2.0.3 in c:\\users\\mitra\\anaconda3\\lib\\site-packages (from spacy==3.0.6->-r https://raw.githubusercontent.com/mitramir55/PassivePy/main/PassivePyCode/PassivePySrc/requirements_lg.txt (line 1)) (2.0.8)\n",
      "Requirement already satisfied: murmurhash<1.1.0,>=0.28.0 in c:\\users\\mitra\\anaconda3\\lib\\site-packages (from spacy==3.0.6->-r https://raw.githubusercontent.com/mitramir55/PassivePy/main/PassivePyCode/PassivePySrc/requirements_lg.txt (line 1)) (1.0.8)\n",
      "Requirement already satisfied: wasabi<1.1.0,>=0.8.1 in c:\\users\\mitra\\anaconda3\\lib\\site-packages (from spacy==3.0.6->-r https://raw.githubusercontent.com/mitramir55/PassivePy/main/PassivePyCode/PassivePySrc/requirements_lg.txt (line 1)) (0.10.1)\n",
      "Requirement already satisfied: srsly<3.0.0,>=2.4.1 in c:\\users\\mitra\\anaconda3\\lib\\site-packages (from spacy==3.0.6->-r https://raw.githubusercontent.com/mitramir55/PassivePy/main/PassivePyCode/PassivePySrc/requirements_lg.txt (line 1)) (2.4.4)\n",
      "Requirement already satisfied: numpy>=1.15.0 in c:\\users\\mitra\\anaconda3\\lib\\site-packages (from spacy==3.0.6->-r https://raw.githubusercontent.com/mitramir55/PassivePy/main/PassivePyCode/PassivePySrc/requirements_lg.txt (line 1)) (1.21.5)\n",
      "Requirement already satisfied: pydantic<1.8.0,>=1.7.1 in c:\\users\\mitra\\anaconda3\\lib\\site-packages (from spacy==3.0.6->-r https://raw.githubusercontent.com/mitramir55/PassivePy/main/PassivePyCode/PassivePySrc/requirements_lg.txt (line 1)) (1.7.4)\n",
      "Requirement already satisfied: blis<0.8.0,>=0.4.0 in c:\\users\\mitra\\anaconda3\\lib\\site-packages (from spacy==3.0.6->-r https://raw.githubusercontent.com/mitramir55/PassivePy/main/PassivePyCode/PassivePySrc/requirements_lg.txt (line 1)) (0.7.8)\n",
      "Requirement already satisfied: jinja2 in c:\\users\\mitra\\anaconda3\\lib\\site-packages (from spacy==3.0.6->-r https://raw.githubusercontent.com/mitramir55/PassivePy/main/PassivePyCode/PassivePySrc/requirements_lg.txt (line 1)) (2.11.3)\n",
      "Requirement already satisfied: tqdm<5.0.0,>=4.38.0 in c:\\users\\mitra\\anaconda3\\lib\\site-packages (from spacy==3.0.6->-r https://raw.githubusercontent.com/mitramir55/PassivePy/main/PassivePyCode/PassivePySrc/requirements_lg.txt (line 1)) (4.64.0)\n",
      "Requirement already satisfied: typer<0.4.0,>=0.3.0 in c:\\users\\mitra\\anaconda3\\lib\\site-packages (from spacy==3.0.6->-r https://raw.githubusercontent.com/mitramir55/PassivePy/main/PassivePyCode/PassivePySrc/requirements_lg.txt (line 1)) (0.3.2)\n",
      "Requirement already satisfied: cymem<2.1.0,>=2.0.2 in c:\\users\\mitra\\anaconda3\\lib\\site-packages (from spacy==3.0.6->-r https://raw.githubusercontent.com/mitramir55/PassivePy/main/PassivePyCode/PassivePySrc/requirements_lg.txt (line 1)) (2.0.6)\n",
      "Requirement already satisfied: requests<3.0.0,>=2.13.0 in c:\\users\\mitra\\anaconda3\\lib\\site-packages (from spacy==3.0.6->-r https://raw.githubusercontent.com/mitramir55/PassivePy/main/PassivePyCode/PassivePySrc/requirements_lg.txt (line 1)) (2.27.1)\n",
      "Requirement already satisfied: pathy>=0.3.5 in c:\\users\\mitra\\anaconda3\\lib\\site-packages (from spacy==3.0.6->-r https://raw.githubusercontent.com/mitramir55/PassivePy/main/PassivePyCode/PassivePySrc/requirements_lg.txt (line 1)) (0.6.2)\n",
      "Requirement already satisfied: thinc<8.1.0,>=8.0.3 in c:\\users\\mitra\\anaconda3\\lib\\site-packages (from spacy==3.0.6->-r https://raw.githubusercontent.com/mitramir55/PassivePy/main/PassivePyCode/PassivePySrc/requirements_lg.txt (line 1)) (8.0.17)\n",
      "Requirement already satisfied: pyparsing!=3.0.5,>=2.0.2 in c:\\users\\mitra\\anaconda3\\lib\\site-packages (from packaging>=20.0->spacy==3.0.6->-r https://raw.githubusercontent.com/mitramir55/PassivePy/main/PassivePyCode/PassivePySrc/requirements_lg.txt (line 1)) (3.0.4)\n",
      "Requirement already satisfied: smart-open<6.0.0,>=5.2.1 in c:\\users\\mitra\\anaconda3\\lib\\site-packages (from pathy>=0.3.5->spacy==3.0.6->-r https://raw.githubusercontent.com/mitramir55/PassivePy/main/PassivePyCode/PassivePySrc/requirements_lg.txt (line 1)) (5.2.1)\n",
      "Requirement already satisfied: charset-normalizer~=2.0.0 in c:\\users\\mitra\\anaconda3\\lib\\site-packages (from requests<3.0.0,>=2.13.0->spacy==3.0.6->-r https://raw.githubusercontent.com/mitramir55/PassivePy/main/PassivePyCode/PassivePySrc/requirements_lg.txt (line 1)) (2.0.4)\n",
      "Requirement already satisfied: certifi>=2017.4.17 in c:\\users\\mitra\\anaconda3\\lib\\site-packages (from requests<3.0.0,>=2.13.0->spacy==3.0.6->-r https://raw.githubusercontent.com/mitramir55/PassivePy/main/PassivePyCode/PassivePySrc/requirements_lg.txt (line 1)) (2021.10.8)\n",
      "Requirement already satisfied: urllib3<1.27,>=1.21.1 in c:\\users\\mitra\\anaconda3\\lib\\site-packages (from requests<3.0.0,>=2.13.0->spacy==3.0.6->-r https://raw.githubusercontent.com/mitramir55/PassivePy/main/PassivePyCode/PassivePySrc/requirements_lg.txt (line 1)) (1.26.9)\n",
      "Requirement already satisfied: idna<4,>=2.5 in c:\\users\\mitra\\anaconda3\\lib\\site-packages (from requests<3.0.0,>=2.13.0->spacy==3.0.6->-r https://raw.githubusercontent.com/mitramir55/PassivePy/main/PassivePyCode/PassivePySrc/requirements_lg.txt (line 1)) (3.3)\n",
      "Requirement already satisfied: colorama in c:\\users\\mitra\\anaconda3\\lib\\site-packages (from tqdm<5.0.0,>=4.38.0->spacy==3.0.6->-r https://raw.githubusercontent.com/mitramir55/PassivePy/main/PassivePyCode/PassivePySrc/requirements_lg.txt (line 1)) (0.4.4)\n",
      "Requirement already satisfied: click<7.2.0,>=7.1.1 in c:\\users\\mitra\\anaconda3\\lib\\site-packages (from typer<0.4.0,>=0.3.0->spacy==3.0.6->-r https://raw.githubusercontent.com/mitramir55/PassivePy/main/PassivePyCode/PassivePySrc/requirements_lg.txt (line 1)) (7.1.2)\n",
      "Requirement already satisfied: MarkupSafe>=0.23 in c:\\users\\mitra\\anaconda3\\lib\\site-packages (from jinja2->spacy==3.0.6->-r https://raw.githubusercontent.com/mitramir55/PassivePy/main/PassivePyCode/PassivePySrc/requirements_lg.txt (line 1)) (2.0.1)\n",
      "Requirement already satisfied: PassivePy==0.2.15 in c:\\users\\mitra\\anaconda3\\lib\\site-packages (0.2.15)\n",
      "Requirement already satisfied: tqdm in c:\\users\\mitra\\anaconda3\\lib\\site-packages (from PassivePy==0.2.15) (4.64.0)\n",
      "Requirement already satisfied: termcolor in c:\\users\\mitra\\anaconda3\\lib\\site-packages (from PassivePy==0.2.15) (1.1.0)\n",
      "Requirement already satisfied: spacy>=3.0.0 in c:\\users\\mitra\\anaconda3\\lib\\site-packages (from PassivePy==0.2.15) (3.0.6)\n",
      "Requirement already satisfied: requests<3.0.0,>=2.13.0 in c:\\users\\mitra\\anaconda3\\lib\\site-packages (from spacy>=3.0.0->PassivePy==0.2.15) (2.27.1)\n",
      "Requirement already satisfied: packaging>=20.0 in c:\\users\\mitra\\anaconda3\\lib\\site-packages (from spacy>=3.0.0->PassivePy==0.2.15) (21.3)\n",
      "Requirement already satisfied: srsly<3.0.0,>=2.4.1 in c:\\users\\mitra\\anaconda3\\lib\\site-packages (from spacy>=3.0.0->PassivePy==0.2.15) (2.4.4)\n",
      "Requirement already satisfied: thinc<8.1.0,>=8.0.3 in c:\\users\\mitra\\anaconda3\\lib\\site-packages (from spacy>=3.0.0->PassivePy==0.2.15) (8.0.17)\n",
      "Requirement already satisfied: cymem<2.1.0,>=2.0.2 in c:\\users\\mitra\\anaconda3\\lib\\site-packages (from spacy>=3.0.0->PassivePy==0.2.15) (2.0.6)\n",
      "Requirement already satisfied: numpy>=1.15.0 in c:\\users\\mitra\\anaconda3\\lib\\site-packages (from spacy>=3.0.0->PassivePy==0.2.15) (1.21.5)\n",
      "Requirement already satisfied: catalogue<2.1.0,>=2.0.3 in c:\\users\\mitra\\anaconda3\\lib\\site-packages (from spacy>=3.0.0->PassivePy==0.2.15) (2.0.8)\n",
      "Requirement already satisfied: typer<0.4.0,>=0.3.0 in c:\\users\\mitra\\anaconda3\\lib\\site-packages (from spacy>=3.0.0->PassivePy==0.2.15) (0.3.2)\n",
      "Requirement already satisfied: blis<0.8.0,>=0.4.0 in c:\\users\\mitra\\anaconda3\\lib\\site-packages (from spacy>=3.0.0->PassivePy==0.2.15) (0.7.8)\n",
      "Requirement already satisfied: wasabi<1.1.0,>=0.8.1 in c:\\users\\mitra\\anaconda3\\lib\\site-packages (from spacy>=3.0.0->PassivePy==0.2.15) (0.10.1)\n",
      "Requirement already satisfied: jinja2 in c:\\users\\mitra\\anaconda3\\lib\\site-packages (from spacy>=3.0.0->PassivePy==0.2.15) (2.11.3)\n",
      "Requirement already satisfied: setuptools in c:\\users\\mitra\\anaconda3\\lib\\site-packages (from spacy>=3.0.0->PassivePy==0.2.15) (61.2.0)\n",
      "Requirement already satisfied: spacy-legacy<3.1.0,>=3.0.4 in c:\\users\\mitra\\anaconda3\\lib\\site-packages (from spacy>=3.0.0->PassivePy==0.2.15) (3.0.6)\n",
      "Requirement already satisfied: preshed<3.1.0,>=3.0.2 in c:\\users\\mitra\\anaconda3\\lib\\site-packages (from spacy>=3.0.0->PassivePy==0.2.15) (3.0.7)\n",
      "Requirement already satisfied: pathy>=0.3.5 in c:\\users\\mitra\\anaconda3\\lib\\site-packages (from spacy>=3.0.0->PassivePy==0.2.15) (0.6.2)\n",
      "Requirement already satisfied: pydantic<1.8.0,>=1.7.1 in c:\\users\\mitra\\anaconda3\\lib\\site-packages (from spacy>=3.0.0->PassivePy==0.2.15) (1.7.4)\n",
      "Requirement already satisfied: murmurhash<1.1.0,>=0.28.0 in c:\\users\\mitra\\anaconda3\\lib\\site-packages (from spacy>=3.0.0->PassivePy==0.2.15) (1.0.8)\n",
      "Requirement already satisfied: pyparsing!=3.0.5,>=2.0.2 in c:\\users\\mitra\\anaconda3\\lib\\site-packages (from packaging>=20.0->spacy>=3.0.0->PassivePy==0.2.15) (3.0.4)\n",
      "Requirement already satisfied: smart-open<6.0.0,>=5.2.1 in c:\\users\\mitra\\anaconda3\\lib\\site-packages (from pathy>=0.3.5->spacy>=3.0.0->PassivePy==0.2.15) (5.2.1)\n",
      "Requirement already satisfied: charset-normalizer~=2.0.0 in c:\\users\\mitra\\anaconda3\\lib\\site-packages (from requests<3.0.0,>=2.13.0->spacy>=3.0.0->PassivePy==0.2.15) (2.0.4)\n",
      "Requirement already satisfied: idna<4,>=2.5 in c:\\users\\mitra\\anaconda3\\lib\\site-packages (from requests<3.0.0,>=2.13.0->spacy>=3.0.0->PassivePy==0.2.15) (3.3)\n",
      "Requirement already satisfied: urllib3<1.27,>=1.21.1 in c:\\users\\mitra\\anaconda3\\lib\\site-packages (from requests<3.0.0,>=2.13.0->spacy>=3.0.0->PassivePy==0.2.15) (1.26.9)\n",
      "Requirement already satisfied: certifi>=2017.4.17 in c:\\users\\mitra\\anaconda3\\lib\\site-packages (from requests<3.0.0,>=2.13.0->spacy>=3.0.0->PassivePy==0.2.15) (2021.10.8)\n",
      "Requirement already satisfied: colorama in c:\\users\\mitra\\anaconda3\\lib\\site-packages (from tqdm->PassivePy==0.2.15) (0.4.4)\n",
      "Requirement already satisfied: click<7.2.0,>=7.1.1 in c:\\users\\mitra\\anaconda3\\lib\\site-packages (from typer<0.4.0,>=0.3.0->spacy>=3.0.0->PassivePy==0.2.15) (7.1.2)\n",
      "Requirement already satisfied: MarkupSafe>=0.23 in c:\\users\\mitra\\anaconda3\\lib\\site-packages (from jinja2->spacy>=3.0.0->PassivePy==0.2.15) (2.0.1)\n"
     ]
    }
   ],
   "source": [
    "# first run this cell to install the package\n",
    "\n",
    "\n",
    "!pip install -r https://raw.githubusercontent.com/mitramir55/PassivePy/main/PassivePyCode/PassivePySrc/requirements_lg.txt\n",
    "!pip install PassivePy==0.2.15"
   ]
  },
  {
   "cell_type": "code",
   "execution_count": 5,
   "metadata": {},
   "outputs": [],
   "source": [
    "# then run this to import the package and create PassivePy\n",
    "import pandas as pd\n",
    "import os\n",
    "import regex as re\n",
    "pd.set_option('display.max_colwidth', None)\n",
    "import string\n",
    "from PassivePySrc import PassivePy\n",
    "\n",
    "\n",
    "spacy_model = \"en_core_web_lg\"\n",
    "passivepy = PassivePy.PassivePyAnalyzer(spacy_model)"
   ]
  },
  {
   "cell_type": "code",
   "execution_count": 1,
   "metadata": {},
   "outputs": [],
   "source": [
    "\n",
    "df = pd.read_excel('Data/passivepy_humancoding_match.xlsx')\n",
    "df.drop(columns=['Unnamed: 0', 'PassiveMatch(es)', 'PassiveCount', 'match'], inplace=True)"
   ]
  },
  {
   "cell_type": "code",
   "execution_count": 3,
   "metadata": {},
   "outputs": [],
   "source": [
    "FILE_PATH = r'C:\\Users\\mitra\\yelp_dataset\\yelp_academic_dataset_review.json'"
   ]
  },
  {
   "cell_type": "code",
   "execution_count": 5,
   "metadata": {},
   "outputs": [],
   "source": [
    "size = 1000000\n",
    "review = pd.read_json(FILE_PATH, lines=True,\n",
    "                      dtype={'review_id':str,'user_id':str,\n",
    "                             'business_id':str,'stars':int,\n",
    "                             'date':str,'text':str,'useful':int,\n",
    "                             'funny':int,'cool':int},\n",
    "                      chunksize=size)"
   ]
  },
  {
   "cell_type": "code",
   "execution_count": 6,
   "metadata": {},
   "outputs": [
    {
     "name": "stdout",
     "output_type": "stream",
     "text": [
      "1000000 out of 1,000,000 related reviews\n",
      "1000000 out of 1,000,000 related reviews\n",
      "1000000 out of 1,000,000 related reviews\n",
      "1000000 out of 1,000,000 related reviews\n",
      "1000000 out of 1,000,000 related reviews\n",
      "1000000 out of 1,000,000 related reviews\n",
      "990280 out of 1,000,000 related reviews\n"
     ]
    }
   ],
   "source": [
    "\n",
    "# There are multiple chunks to be read\n",
    "chunk_list = []\n",
    "\n",
    "for chunk_review in review:\n",
    "\n",
    "    # Drop columns that aren't needed\n",
    "    chunk_review = chunk_review.drop(['review_id','useful','funny','cool'], axis=1)\n",
    "    \n",
    "    # Show feedback on progress\n",
    "    print(f\"{chunk_review.shape[0]} out of {size:,} related reviews\")\n",
    "    chunk_list.append(chunk_review)\n",
    "    \n",
    "# After trimming down the review file, concatenate all relevant data back to one dataframe\n",
    "df = pd.concat(chunk_list, ignore_index=True, join='outer', axis=0)"
   ]
  },
  {
   "cell_type": "code",
   "execution_count": null,
   "metadata": {},
   "outputs": [],
   "source": [
    "csv_name = r\"C:\\Users\\mitra\\yelp_dataset\\yelp_reviews_RV_categories.csv\"\n",
    "df.to_csv(csv_name, index=False)"
   ]
  },
  {
   "cell_type": "code",
   "execution_count": 6,
   "metadata": {},
   "outputs": [
    {
     "data": {
      "text/html": [
       "<div>\n",
       "<style scoped>\n",
       "    .dataframe tbody tr th:only-of-type {\n",
       "        vertical-align: middle;\n",
       "    }\n",
       "\n",
       "    .dataframe tbody tr th {\n",
       "        vertical-align: top;\n",
       "    }\n",
       "\n",
       "    .dataframe thead th {\n",
       "        text-align: right;\n",
       "    }\n",
       "</style>\n",
       "<table border=\"1\" class=\"dataframe\">\n",
       "  <thead>\n",
       "    <tr style=\"text-align: right;\">\n",
       "      <th></th>\n",
       "      <th>Sentence</th>\n",
       "      <th>ID</th>\n",
       "      <th>Test</th>\n",
       "      <th>Cond</th>\n",
       "    </tr>\n",
       "    <tr>\n",
       "      <th>human_coding</th>\n",
       "      <th></th>\n",
       "      <th></th>\n",
       "      <th></th>\n",
       "      <th></th>\n",
       "    </tr>\n",
       "  </thead>\n",
       "  <tbody>\n",
       "    <tr>\n",
       "      <th>0</th>\n",
       "      <td>934</td>\n",
       "      <td>934</td>\n",
       "      <td>929</td>\n",
       "      <td>934</td>\n",
       "    </tr>\n",
       "    <tr>\n",
       "      <th>1</th>\n",
       "      <td>216</td>\n",
       "      <td>216</td>\n",
       "      <td>216</td>\n",
       "      <td>216</td>\n",
       "    </tr>\n",
       "  </tbody>\n",
       "</table>\n",
       "</div>"
      ],
      "text/plain": [
       "              Sentence   ID  Test  Cond\n",
       "human_coding                           \n",
       "0                  934  934   929   934\n",
       "1                  216  216   216   216"
      ]
     },
     "execution_count": 6,
     "metadata": {},
     "output_type": "execute_result"
    }
   ],
   "source": [
    "df.groupby('human_coding').count()"
   ]
  },
  {
   "cell_type": "code",
   "execution_count": 3,
   "metadata": {},
   "outputs": [],
   "source": [
    "csv_name = r\"C:\\Users\\mitra\\yelp_dataset\\yelp_reviews_RV_categories.csv\"\n",
    "df = pd.read_csv(csv_name)"
   ]
  },
  {
   "cell_type": "code",
   "execution_count": 7,
   "metadata": {},
   "outputs": [],
   "source": [
    "df.drop(columns=['business_id', 'user_id', 'date'], inplace=True)"
   ]
  },
  {
   "cell_type": "code",
   "execution_count": 8,
   "metadata": {},
   "outputs": [
    {
     "data": {
      "text/html": [
       "<div>\n",
       "<style scoped>\n",
       "    .dataframe tbody tr th:only-of-type {\n",
       "        vertical-align: middle;\n",
       "    }\n",
       "\n",
       "    .dataframe tbody tr th {\n",
       "        vertical-align: top;\n",
       "    }\n",
       "\n",
       "    .dataframe thead th {\n",
       "        text-align: right;\n",
       "    }\n",
       "</style>\n",
       "<table border=\"1\" class=\"dataframe\">\n",
       "  <thead>\n",
       "    <tr style=\"text-align: right;\">\n",
       "      <th></th>\n",
       "      <th>stars</th>\n",
       "      <th>text</th>\n",
       "    </tr>\n",
       "  </thead>\n",
       "  <tbody>\n",
       "    <tr>\n",
       "      <th>0</th>\n",
       "      <td>3</td>\n",
       "      <td>If you decide to eat here, just be aware it is going to take about 2 hours from beginning to end. We have tried it multiple times, because I want to like it! I have been to it's other locations in NJ and never had a bad experience. \\n\\nThe food is good, but it takes a very long time to come out. The waitstaff is very young, but usually pleasant. We have just had too many experiences where we spent way too long waiting. We usually opt for another diner or restaurant on the weekends, in order to be done quicker.</td>\n",
       "    </tr>\n",
       "    <tr>\n",
       "      <th>1</th>\n",
       "      <td>5</td>\n",
       "      <td>I've taken a lot of spin classes over the years, and nothing compares to the classes at Body Cycle. From the nice, clean space and amazing bikes, to the welcoming and motivating instructors, every class is a top notch work out.\\n\\nFor anyone who struggles to fit workouts in, the online scheduling system makes it easy to plan ahead (and there's no need to line up way in advanced like many gyms make you do).\\n\\nThere is no way I can write this review without giving Russell, the owner of Body Cycle, a shout out. Russell's passion for fitness and cycling is so evident, as is his desire for all of his clients to succeed. He is always dropping in to classes to check in/provide encouragement, and is open to ideas and recommendations from anyone. Russell always wears a smile on his face, even when he's kicking your butt in class!</td>\n",
       "    </tr>\n",
       "    <tr>\n",
       "      <th>2</th>\n",
       "      <td>3</td>\n",
       "      <td>Family diner. Had the buffet. Eclectic assortment: a large chicken leg, fried jalapeño, tamale, two rolled grape leaves, fresh melon. All good. Lots of Mexican choices there. Also has a menu with breakfast served all day long. Friendly, attentive staff. Good place for a casual relaxed meal with no expectations. Next to the Clarion Hotel.</td>\n",
       "    </tr>\n",
       "    <tr>\n",
       "      <th>3</th>\n",
       "      <td>5</td>\n",
       "      <td>Wow!  Yummy, different,  delicious.   Our favorite is the lamb curry and korma.  With 10 different kinds of naan!!!  Don't let the outside deter you (because we almost changed our minds)...go in and try something new!   You'll be glad you did!</td>\n",
       "    </tr>\n",
       "    <tr>\n",
       "      <th>4</th>\n",
       "      <td>4</td>\n",
       "      <td>Cute interior and owner (?) gave us tour of upcoming patio/rooftop area which will be great on beautiful days like today. Cheese curds were very good and very filling. Really like that sandwiches come w salad, esp after eating too many curds! Had the onion, gruyere, tomato sandwich. Wasn't too much cheese which I liked. Needed something else...pepper jelly maybe. Would like to see more menu options added such as salads w fun cheeses. Lots of beer and wine as well as limited cocktails. Next time I will try one of the draft wines.</td>\n",
       "    </tr>\n",
       "  </tbody>\n",
       "</table>\n",
       "</div>"
      ],
      "text/plain": [
       "   stars  \\\n",
       "0      3   \n",
       "1      5   \n",
       "2      3   \n",
       "3      5   \n",
       "4      4   \n",
       "\n",
       "                                                                                                                                                                                                                                                                                                                                                                                                                                                                                                                                                                                                                                                                                                                                                                                                                                                                text  \n",
       "0                                                                                                                                                                                                                                                                                                                                If you decide to eat here, just be aware it is going to take about 2 hours from beginning to end. We have tried it multiple times, because I want to like it! I have been to it's other locations in NJ and never had a bad experience. \\n\\nThe food is good, but it takes a very long time to come out. The waitstaff is very young, but usually pleasant. We have just had too many experiences where we spent way too long waiting. We usually opt for another diner or restaurant on the weekends, in order to be done quicker.  \n",
       "1  I've taken a lot of spin classes over the years, and nothing compares to the classes at Body Cycle. From the nice, clean space and amazing bikes, to the welcoming and motivating instructors, every class is a top notch work out.\\n\\nFor anyone who struggles to fit workouts in, the online scheduling system makes it easy to plan ahead (and there's no need to line up way in advanced like many gyms make you do).\\n\\nThere is no way I can write this review without giving Russell, the owner of Body Cycle, a shout out. Russell's passion for fitness and cycling is so evident, as is his desire for all of his clients to succeed. He is always dropping in to classes to check in/provide encouragement, and is open to ideas and recommendations from anyone. Russell always wears a smile on his face, even when he's kicking your butt in class!  \n",
       "2                                                                                                                                                                                                                                                                                                                                                                                                                                                                                                                Family diner. Had the buffet. Eclectic assortment: a large chicken leg, fried jalapeño, tamale, two rolled grape leaves, fresh melon. All good. Lots of Mexican choices there. Also has a menu with breakfast served all day long. Friendly, attentive staff. Good place for a casual relaxed meal with no expectations. Next to the Clarion Hotel.  \n",
       "3                                                                                                                                                                                                                                                                                                                                                                                                                                                                                                                                                                                                                Wow!  Yummy, different,  delicious.   Our favorite is the lamb curry and korma.  With 10 different kinds of naan!!!  Don't let the outside deter you (because we almost changed our minds)...go in and try something new!   You'll be glad you did!  \n",
       "4                                                                                                                                                                                                                                                                                                             Cute interior and owner (?) gave us tour of upcoming patio/rooftop area which will be great on beautiful days like today. Cheese curds were very good and very filling. Really like that sandwiches come w salad, esp after eating too many curds! Had the onion, gruyere, tomato sandwich. Wasn't too much cheese which I liked. Needed something else...pepper jelly maybe. Would like to see more menu options added such as salads w fun cheeses. Lots of beer and wine as well as limited cocktails. Next time I will try one of the draft wines.  "
      ]
     },
     "execution_count": 8,
     "metadata": {},
     "output_type": "execute_result"
    }
   ],
   "source": [
    "df.head()"
   ]
  },
  {
   "cell_type": "code",
   "execution_count": null,
   "metadata": {},
   "outputs": [],
   "source": [
    "df"
   ]
  },
  {
   "cell_type": "code",
   "execution_count": 9,
   "metadata": {},
   "outputs": [
    {
     "name": "stdout",
     "output_type": "stream",
     "text": [
      "Detecting Sentences...\n"
     ]
    }
   ],
   "source": [
    "df_detected_s = passivepy.match_sentence_level(df[:1000000], column_name='text', n_process = 4,\n",
    "                                                batch_size = 10000, add_other_columns=True,\n",
    "                                                truncated_passive=False, full_passive=False)\n",
    "df_detected_s"
   ]
  },
  {
   "cell_type": "code",
   "execution_count": 1,
   "metadata": {},
   "outputs": [
    {
     "data": {
      "text/plain": [
       "'c:\\\\Users\\\\mitra\\\\anaconda3'"
      ]
     },
     "execution_count": 1,
     "metadata": {},
     "output_type": "execute_result"
    }
   ],
   "source": [
    "import os\n",
    "import sys\n",
    "os.path.dirname(sys.executable)"
   ]
  },
  {
   "cell_type": "code",
   "execution_count": null,
   "metadata": {},
   "outputs": [],
   "source": []
  }
 ],
 "metadata": {
  "kernelspec": {
   "display_name": "Python 3.9.12 ('base': conda)",
   "language": "python",
   "name": "python3"
  },
  "language_info": {
   "codemirror_mode": {
    "name": "ipython",
    "version": 3
   },
   "file_extension": ".py",
   "mimetype": "text/x-python",
   "name": "python",
   "nbconvert_exporter": "python",
   "pygments_lexer": "ipython3",
   "version": "3.9.7"
  },
  "orig_nbformat": 4,
  "vscode": {
   "interpreter": {
    "hash": "adfccd5c958d70cd78f22c942a5f90dd259f52bf203482d766a0ca6ec5e2e798"
   }
  }
 },
 "nbformat": 4,
 "nbformat_minor": 2
}
